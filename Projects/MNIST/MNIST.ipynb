{
 "cells": [
  {
   "cell_type": "markdown",
   "id": "60e08add",
   "metadata": {},
   "source": [
    "# MNIST"
   ]
  },
  {
   "cell_type": "code",
   "execution_count": 45,
   "id": "ef0bc2d7",
   "metadata": {},
   "outputs": [],
   "source": [
    "import numpy as np\n",
    "\n",
    "import torch\n",
    "import torch.nn as nn\n",
    "from torch.utils.data import DataLoader\n",
    "from torch.optim import Adam\n",
    "# Optional\n",
    "import torch_tensorrt\n",
    "import tensorrt\n",
    "\n",
    "import torchvision\n",
    "import torchvision.transforms.v2 as transforms\n",
    "import torchvision.transforms.functional as F\n",
    "import matplotlib.pyplot as plt\n",
    "\n",
    "%matplotlib inline"
   ]
  },
  {
   "cell_type": "code",
   "execution_count": 46,
   "id": "1c70f20f",
   "metadata": {},
   "outputs": [],
   "source": [
    "device = torch.device(\"cuda\" if torch.cuda.is_available() else \"cpu\")"
   ]
  },
  {
   "cell_type": "code",
   "execution_count": 47,
   "id": "ddf10b29",
   "metadata": {},
   "outputs": [],
   "source": [
    "train_set = torchvision.datasets.MNIST(\"./datasets/\", train=True, download=True)\n",
    "valid_set = torchvision.datasets.MNIST(\"./datasets/\", train=False, download=True)"
   ]
  },
  {
   "cell_type": "code",
   "execution_count": 48,
   "id": "66fbe8e1",
   "metadata": {},
   "outputs": [
    {
     "data": {
      "image/jpeg": "[encoded data removed]",
      "image/png": "[encoded data removed]",
      "text/plain": [
       "<PIL.Image.Image image mode=L size=28x28>"
      ]
     },
     "metadata": {},
     "output_type": "display_data"
    }
   ],
   "source": [
    "display(train_set[0][0])"
   ]
  },
  {
   "cell_type": "code",
   "execution_count": 49,
   "id": "c3895d2a",
   "metadata": {},
   "outputs": [
    {
     "data": {
      "text/plain": [
       "(<PIL.Image.Image image mode=L size=28x28>, 7)"
      ]
     },
     "execution_count": 49,
     "metadata": {},
     "output_type": "execute_result"
    }
   ],
   "source": [
    "valid_set[0]"
   ]
  },
  {
   "cell_type": "code",
   "execution_count": 50,
   "id": "7d71cd91",
   "metadata": {},
   "outputs": [],
   "source": [
    "input_size = 28 * 28\n",
    "n_classes = 10"
   ]
  },
  {
   "cell_type": "code",
   "execution_count": 51,
   "id": "bcb6da8a",
   "metadata": {},
   "outputs": [],
   "source": [
    "preprocess_trans = transforms.Compose([\n",
    "    transforms.ToImage(),\n",
    "    transforms.ToDtype(torch.float32)\n",
    "])\n",
    "\n",
    "train_set.transform = preprocess_trans\n",
    "valid_set.transform = preprocess_trans"
   ]
  },
  {
   "cell_type": "code",
   "execution_count": 52,
   "id": "bcfb9aad",
   "metadata": {},
   "outputs": [],
   "source": [
    "base_model = nn.Sequential(\n",
    "    nn.Flatten(), # Flatten 2d Tensor to 1d tensor\n",
    "    nn.Linear(input_size, 2048), # 768 x 2048 input layer\n",
    "    nn.ReLU(), # Activation function\n",
    "    nn.Linear(2048, 2048), # 2048 x 2048 hidden layer\n",
    "    nn.ReLU(), # Activation function \n",
    "    nn.Linear(2048, 1024), # 2048 x 1024 hidden layer\n",
    "    nn.ReLU(), # Activation function\n",
    "    nn.Linear(1024, 512), # 1024 x 512 hidden layer\n",
    "    nn.ReLU(), # Activation function\n",
    "    nn.Linear(512, n_classes),# 512 x 10 Output layer\n",
    ") "
   ]
  },
  {
   "cell_type": "code",
   "execution_count": 53,
   "id": "fc20724a",
   "metadata": {},
   "outputs": [],
   "source": [
    "loss_function = nn.CrossEntropyLoss()\n",
    "\n",
    "optimizer = Adam(base_model.parameters())"
   ]
  },
  {
   "cell_type": "code",
   "execution_count": 54,
   "id": "799caed0",
   "metadata": {},
   "outputs": [],
   "source": [
    "model = torch.compile(base_model.to(device))"
   ]
  },
  {
   "cell_type": "code",
   "execution_count": null,
   "id": "ef3a1112",
   "metadata": {},
   "outputs": [],
   "source": [
    "train_loader = DataLoader(train_set, shuffle=True, batch_size=4196)\n",
    "valid_loader = DataLoader(valid_set, batch_size=4196)"
   ]
  },
  {
   "cell_type": "code",
   "execution_count": 56,
   "id": "226bf18f",
   "metadata": {},
   "outputs": [],
   "source": [
    "def train(epochs=20):\n",
    "    train_epochLoss = []\n",
    "    valid_epochLoss = []\n",
    "    \n",
    "    for epoch in range(epochs):\n",
    "        train_stepLoss = []\n",
    "        valid_stepLoss = []\n",
    "        # Train step\n",
    "        model.train()\n",
    "        for x, y in train_loader:\n",
    "            # Move both tensors to device\n",
    "            x = x.to(device)\n",
    "            y = y.to(device)\n",
    "            # Feed forward\n",
    "            output = model(x)\n",
    "            # Clear gradients\n",
    "            optimizer.zero_grad()\n",
    "            # Calculate Loss\n",
    "            train_loss = loss_function(output, y)\n",
    "            # Calculate gradients\n",
    "            train_loss.backward()\n",
    "            # Update weights\n",
    "            optimizer.step()\n",
    "            # Collect train step loss\n",
    "            train_stepLoss.append(train_loss.item())\n",
    "        # Collect train epoch loss\n",
    "        train_epochLoss.append(np.array(train_stepLoss).mean())\n",
    "        \n",
    "        # Validate step\n",
    "        model.eval()\n",
    "        # Disable gradient calculation\n",
    "        with torch.no_grad():\n",
    "            for x, y in valid_loader:\n",
    "                # Move both tensors to device\n",
    "                x = x.to(device)\n",
    "                y = y.to(device)\n",
    "                # Feed forward\n",
    "                output = model(x)\n",
    "                # Calculate Loss\n",
    "                valid_loss = loss_function(output, y)\n",
    "                # Collect validate step loss\n",
    "                valid_stepLoss.append(valid_loss.item())\n",
    "        \n",
    "        # Collect validate epoch loss\n",
    "        valid_epochLoss.append(np.array(valid_stepLoss).mean())\n",
    "        \n",
    "        print(f\"Epoch {epoch + 1}/{epochs} done\")\n",
    "    # Plot data\n",
    "    plt.plot(train_epochLoss, label='train_loss')\n",
    "    plt.plot(valid_epochLoss, label='valid_loss')\n",
    "    plt.legend()\n",
    "    plt.ylim(0, 1)\n",
    "    plt.show()"
   ]
  },
  {
   "cell_type": "code",
   "execution_count": 57,
   "id": "0005ac5d",
   "metadata": {},
   "outputs": [
    {
     "name": "stdout",
     "output_type": "stream",
     "text": [
      "Epoch 1/20 done\n",
      "Epoch 2/20 done\n",
      "Epoch 3/20 done\n",
      "Epoch 4/20 done\n",
      "Epoch 5/20 done\n",
      "Epoch 6/20 done\n",
      "Epoch 7/20 done\n",
      "Epoch 8/20 done\n",
      "Epoch 9/20 done\n",
      "Epoch 10/20 done\n",
      "Epoch 11/20 done\n",
      "Epoch 12/20 done\n",
      "Epoch 13/20 done\n",
      "Epoch 14/20 done\n",
      "Epoch 15/20 done\n",
      "Epoch 16/20 done\n",
      "Epoch 17/20 done\n",
      "Epoch 18/20 done\n",
      "Epoch 19/20 done\n",
      "Epoch 20/20 done\n"
     ]
    },
    {
     "data": {
      "image/png": "[encoded data removed]",
      "text/plain": [
       "<Figure size 640x480 with 1 Axes>"
      ]
     },
     "metadata": {},
     "output_type": "display_data"
    }
   ],
   "source": [
    "train()"
   ]
  },
  {
   "cell_type": "code",
   "execution_count": 27,
   "id": "91041cca",
   "metadata": {},
   "outputs": [],
   "source": [
    "# Recompile model with tensorRT\n",
    "optimized_model = torch.compile(model, backend='tensorrt')"
   ]
  },
  {
   "cell_type": "code",
   "execution_count": 28,
   "id": "b376cc40",
   "metadata": {},
   "outputs": [
    {
     "data": {
      "image/jpeg": "[encoded data removed]",
      "image/png": "[encoded data removed]",
      "text/plain": [
       "<PIL.Image.Image image mode=L size=28x28>"
      ]
     },
     "metadata": {},
     "output_type": "display_data"
    }
   ],
   "source": [
    "display(F.to_pil_image(valid_set[1021][0]))"
   ]
  },
  {
   "cell_type": "code",
   "execution_count": 31,
   "id": "3c90228c",
   "metadata": {},
   "outputs": [
    {
     "data": {
      "text/plain": [
       "3"
      ]
     },
     "execution_count": 31,
     "metadata": {},
     "output_type": "execute_result"
    }
   ],
   "source": [
    "optimized_model(preprocess_trans(valid_set[1028][0]).to(device)).argmax(dim=1).item()"
   ]
  }
 ],
 "metadata": {
  "kernelspec": {
   "display_name": ".venv",
   "language": "python",
   "name": "python3"
  },
  "language_info": {
   "codemirror_mode": {
    "name": "ipython",
    "version": 3
   },
   "file_extension": ".py",
   "mimetype": "text/x-python",
   "name": "python",
   "nbconvert_exporter": "python",
   "pygments_lexer": "ipython3",
   "version": "3.13.7"
  }
 },
 "nbformat": 4,
 "nbformat_minor": 5
}
