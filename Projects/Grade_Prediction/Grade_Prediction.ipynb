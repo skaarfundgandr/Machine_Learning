{
 "cells": [
  {
   "cell_type": "markdown",
   "id": "6cc6d225",
   "metadata": {},
   "source": [
    "# Grade Prediction"
   ]
  },
  {
   "cell_type": "code",
   "execution_count": 140,
   "id": "517ac489",
   "metadata": {},
   "outputs": [
    {
     "data": {
      "text/plain": [
       "'/home/jm/.cache/kagglehub/datasets/samira1992/student-grades-intermediate-dataset/versions/1/Student_Grades.csv'"
      ]
     },
     "execution_count": 140,
     "metadata": {},
     "output_type": "execute_result"
    }
   ],
   "source": [
    "# Get dataset\n",
    "import kagglehub\n",
    "import os\n",
    "\n",
    "path = kagglehub.dataset_download(\"samira1992/student-grades-intermediate-dataset\")\n",
    "\n",
    "for dirname, _, filenames in os.walk(path):\n",
    "    for filename in filenames:\n",
    "        path = os.path.join(dirname, filename)\n",
    "# Print out dataset path\n",
    "path"
   ]
  },
  {
   "cell_type": "code",
   "execution_count": 141,
   "id": "98edf926",
   "metadata": {},
   "outputs": [
    {
     "data": {
      "text/html": [
       "<div>\n",
       "<style scoped>\n",
       "    .dataframe tbody tr th:only-of-type {\n",
       "        vertical-align: middle;\n",
       "    }\n",
       "\n",
       "    .dataframe tbody tr th {\n",
       "        vertical-align: top;\n",
       "    }\n",
       "\n",
       "    .dataframe thead th {\n",
       "        text-align: right;\n",
       "    }\n",
       "</style>\n",
       "<table border=\"1\" class=\"dataframe\">\n",
       "  <thead>\n",
       "    <tr style=\"text-align: right;\">\n",
       "      <th></th>\n",
       "      <th>Hours</th>\n",
       "      <th>Practice</th>\n",
       "      <th>TeamWork</th>\n",
       "      <th>MidTerm</th>\n",
       "      <th>FinalExam</th>\n",
       "      <th>Scores</th>\n",
       "      <th>Grade</th>\n",
       "    </tr>\n",
       "  </thead>\n",
       "  <tbody>\n",
       "    <tr>\n",
       "      <th>0</th>\n",
       "      <td>2.5</td>\n",
       "      <td>0.5</td>\n",
       "      <td>0.0</td>\n",
       "      <td>2</td>\n",
       "      <td>2.3</td>\n",
       "      <td>21</td>\n",
       "      <td>C</td>\n",
       "    </tr>\n",
       "    <tr>\n",
       "      <th>1</th>\n",
       "      <td>5.1</td>\n",
       "      <td>1.5</td>\n",
       "      <td>0.5</td>\n",
       "      <td>4</td>\n",
       "      <td>4.9</td>\n",
       "      <td>47</td>\n",
       "      <td>B</td>\n",
       "    </tr>\n",
       "    <tr>\n",
       "      <th>2</th>\n",
       "      <td>3.2</td>\n",
       "      <td>1.0</td>\n",
       "      <td>0.5</td>\n",
       "      <td>3</td>\n",
       "      <td>2.9</td>\n",
       "      <td>27</td>\n",
       "      <td>C</td>\n",
       "    </tr>\n",
       "    <tr>\n",
       "      <th>3</th>\n",
       "      <td>8.5</td>\n",
       "      <td>3.7</td>\n",
       "      <td>1.2</td>\n",
       "      <td>7</td>\n",
       "      <td>7.7</td>\n",
       "      <td>75</td>\n",
       "      <td>A</td>\n",
       "    </tr>\n",
       "    <tr>\n",
       "      <th>4</th>\n",
       "      <td>3.5</td>\n",
       "      <td>1.2</td>\n",
       "      <td>0.3</td>\n",
       "      <td>3</td>\n",
       "      <td>3.2</td>\n",
       "      <td>30</td>\n",
       "      <td>C</td>\n",
       "    </tr>\n",
       "  </tbody>\n",
       "</table>\n",
       "</div>"
      ],
      "text/plain": [
       "   Hours  Practice  TeamWork  MidTerm  FinalExam  Scores Grade\n",
       "0    2.5       0.5       0.0        2        2.3      21     C\n",
       "1    5.1       1.5       0.5        4        4.9      47     B\n",
       "2    3.2       1.0       0.5        3        2.9      27     C\n",
       "3    8.5       3.7       1.2        7        7.7      75     A\n",
       "4    3.5       1.2       0.3        3        3.2      30     C"
      ]
     },
     "execution_count": 141,
     "metadata": {},
     "output_type": "execute_result"
    }
   ],
   "source": [
    "import pandas as pd\n",
    "import matplotlib as mpl\n",
    "import matplotlib.pyplot as plt\n",
    "import numpy as np\n",
    "import torch\n",
    "from torch.utils.data import DataLoader, Dataset\n",
    "from torch.optim import Adam\n",
    "import torchvision.transforms.v2 as transforms\n",
    "\n",
    "%matplotlib inline\n",
    "# Use cuda if available\n",
    "device = \"cuda\" if torch.cuda.is_available() else \"cpu\"\n",
    "# Load dataframe\n",
    "dataframe = pd.read_csv(path)\n",
    "\n",
    "dataframe.head(5)"
   ]
  },
  {
   "cell_type": "code",
   "execution_count": 142,
   "id": "638ed1d8",
   "metadata": {},
   "outputs": [],
   "source": [
    "# Convert pandas csv to dataset\n",
    "class MyDataset(Dataset):\n",
    "    def __init__(self, base_dataframe: pd.DataFrame):\n",
    "        # Split features in dataset\n",
    "        self.train_df = base_dataframe.drop(columns=[\"Scores\", \"Grade\"]) # Feature set\n",
    "        self.valid_df = base_dataframe[[\"Scores\"]] # Data we are trying to predict\n",
    "        \n",
    "        # Convert dataframe values to float32 tensors and send them to GPU\n",
    "        self.train_tensor = torch.tensor(self.train_df.values).float().to(device)\n",
    "        self.valid_tensor = torch.tensor(self.valid_df.values).float().to(device)\n",
    "        \n",
    "    \n",
    "    def __getitem__(self, index):\n",
    "        x = self.train_tensor[index]\n",
    "        y = self.valid_tensor[index]\n",
    "        return x, y\n",
    "    \n",
    "    def __len__(self):\n",
    "        return len(self.train_tensor)\n",
    "        "
   ]
  },
  {
   "cell_type": "code",
   "execution_count": 143,
   "id": "7967c4ce",
   "metadata": {},
   "outputs": [],
   "source": [
    "# Create base model\n",
    "base = torch.nn.Sequential(\n",
    "    torch.nn.Linear(5, 16),\n",
    "    torch.nn.ReLU(),\n",
    "    torch.nn.Linear(16, 32),\n",
    "    torch.nn.ReLU(),\n",
    "    torch.nn.Linear(32, 1)\n",
    ")\n",
    "# Converts data to float32 tensor\n",
    "preprocess_trans = transforms.Compose([\n",
    "    transforms.ToDtype(torch.float32)\n",
    "])\n",
    "# Compile to gpu\n",
    "model = torch.compile(base.to(device))"
   ]
  },
  {
   "cell_type": "code",
   "execution_count": 144,
   "id": "c1440c3a",
   "metadata": {},
   "outputs": [],
   "source": [
    "def train():\n",
    "    batch_size = 16\n",
    "    \n",
    "    train_dataset = MyDataset(dataframe)\n",
    "    train_loader = DataLoader(train_dataset, batch_size, True)\n",
    "    \n",
    "    valid_dataset = MyDataset(dataframe)\n",
    "    valid_loader = DataLoader(valid_dataset, batch_size)\n",
    "    \n",
    "    loss_function = torch.nn.MSELoss()\n",
    "    optimizer = Adam(base.parameters())\n",
    "    \n",
    "    training_epochLoss = []\n",
    "    validate_epochLoss = []\n",
    "    \n",
    "    epochs = 128\n",
    "    \n",
    "    for epoch in range(epochs):\n",
    "        step_loss = []\n",
    "        valid_stepLoss = []\n",
    "        \n",
    "        model.train()\n",
    "        for x, y in train_loader:\n",
    "            # Feed forward\n",
    "            output = model(x)\n",
    "            # Clear gradients\n",
    "            optimizer.zero_grad()\n",
    "            # Calculate Loss\n",
    "            train_loss = loss_function(output, y)\n",
    "            # Calculate gradients\n",
    "            train_loss.backward()\n",
    "            # Update weights\n",
    "            optimizer.step()\n",
    "            # Collect train step loss\n",
    "            step_loss.append(train_loss.item())\n",
    "        # Collect train epoch loss\n",
    "        training_epochLoss.append(np.array(step_loss).mean())\n",
    "        \n",
    "        model.eval()\n",
    "        # Disable gradient calculation\n",
    "        with torch.no_grad():\n",
    "            for x, y in valid_loader:\n",
    "                # Feed forward\n",
    "                output = model(x)\n",
    "                # Calculate loss\n",
    "                valid_loss = loss_function(output, y)\n",
    "                # Collect valid step loss\n",
    "                valid_stepLoss.append(valid_loss.item())\n",
    "                \n",
    "        validate_epochLoss.append(np.array(valid_stepLoss).mean())\n",
    "    \n",
    "    plt.plot(training_epochLoss, label='train_loss')\n",
    "    plt.plot(validate_epochLoss, label='valid_loss')\n",
    "    plt.legend()\n",
    "    plt.show()"
   ]
  },
  {
   "cell_type": "code",
   "execution_count": 145,
   "id": "8663bee6",
   "metadata": {},
   "outputs": [
    {
     "data": {
      "image/png": "[encoded data removed]",
      "text/plain": [
       "<Figure size 640x480 with 1 Axes>"
      ]
     },
     "metadata": {},
     "output_type": "display_data"
    }
   ],
   "source": [
    "train()"
   ]
  },
  {
   "cell_type": "code",
   "execution_count": null,
   "id": "05ff1b1c",
   "metadata": {},
   "outputs": [],
   "source": [
    "dataframe.head(3)"
   ]
  },
  {
   "cell_type": "code",
   "execution_count": null,
   "id": "ba8e04eb",
   "metadata": {},
   "outputs": [],
   "source": [
    "# Test input\n",
    "model(torch.tensor([[5, 1, 0.5, 4, 4.2,]], dtype=torch.float32).to(device))"
   ]
  }
 ],
 "metadata": {
  "kernelspec": {
   "display_name": ".venv",
   "language": "python",
   "name": "python3"
  },
  "language_info": {
   "codemirror_mode": {
    "name": "ipython",
    "version": 3
   },
   "file_extension": ".py",
   "mimetype": "text/x-python",
   "name": "python",
   "nbconvert_exporter": "python",
   "pygments_lexer": "ipython3",
   "version": "3.13.7"
  }
 },
 "nbformat": 4,
 "nbformat_minor": 5
}
